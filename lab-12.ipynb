{
 "cells": [
  {
   "cell_type": "markdown",
   "id": "1842f34d",
   "metadata": {
    "papermill": {
     "duration": 0.002615,
     "end_time": "2023-11-05T06:45:28.103364",
     "exception": false,
     "start_time": "2023-11-05T06:45:28.100749",
     "status": "completed"
    },
    "tags": []
   },
   "source": [
    "**<h1 style=text-align:center>Practical-12</h1>**"
   ]
  },
  {
   "cell_type": "markdown",
   "id": "3b0c45d6",
   "metadata": {
    "papermill": {
     "duration": 0.001649,
     "end_time": "2023-11-05T06:45:28.107160",
     "exception": false,
     "start_time": "2023-11-05T06:45:28.105511",
     "status": "completed"
    },
    "tags": []
   },
   "source": [
    "**1)Write a Python program using Scikit-learn to print the keys, number of rows-columns, feature names and the description of the given data.**"
   ]
  },
  {
   "cell_type": "code",
   "execution_count": 1,
   "id": "235b15c2",
   "metadata": {
    "execution": {
     "iopub.execute_input": "2023-11-05T06:45:28.115441Z",
     "iopub.status.busy": "2023-11-05T06:45:28.114739Z",
     "iopub.status.idle": "2023-11-05T06:45:28.559548Z",
     "shell.execute_reply": "2023-11-05T06:45:28.558400Z"
    },
    "papermill": {
     "duration": 0.453728,
     "end_time": "2023-11-05T06:45:28.562763",
     "exception": false,
     "start_time": "2023-11-05T06:45:28.109035",
     "status": "completed"
    },
    "tags": []
   },
   "outputs": [
    {
     "name": "stdout",
     "output_type": "stream",
     "text": [
      "\n",
      "Keys of Stock dataset:\n",
      "Index(['Date', 'Open', 'High', 'Low', 'Close', 'Adj Close', 'Volume'], dtype='object')\n",
      "\n",
      "Number of rows and columns of Stock dataset:\n",
      "(127, 7)\n"
     ]
    }
   ],
   "source": [
    "import pandas as pd\n",
    "\n",
    "iris_data = pd.read_csv('../input/stock-csv/stock.csv')\n",
    "\n",
    "print(\"\\nKeys of Stock dataset:\")\n",
    "print(iris_data.keys())\n",
    "print(\"\\nNumber of rows and columns of Stock dataset:\")\n",
    "print(iris_data.shape)"
   ]
  }
 ],
 "metadata": {
  "kernelspec": {
   "display_name": "Python 3",
   "language": "python",
   "name": "python3"
  },
  "language_info": {
   "codemirror_mode": {
    "name": "ipython",
    "version": 3
   },
   "file_extension": ".py",
   "mimetype": "text/x-python",
   "name": "python",
   "nbconvert_exporter": "python",
   "pygments_lexer": "ipython3",
   "version": "3.10.12"
  },
  "papermill": {
   "default_parameters": {},
   "duration": 4.697852,
   "end_time": "2023-11-05T06:45:29.086479",
   "environment_variables": {},
   "exception": null,
   "input_path": "__notebook__.ipynb",
   "output_path": "__notebook__.ipynb",
   "parameters": {},
   "start_time": "2023-11-05T06:45:24.388627",
   "version": "2.4.0"
  }
 },
 "nbformat": 4,
 "nbformat_minor": 5
}
