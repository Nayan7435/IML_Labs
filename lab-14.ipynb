{
 "cells": [
  {
   "cell_type": "markdown",
   "id": "ab12b12d",
   "metadata": {
    "_cell_guid": "b1076dfc-b9ad-4769-8c92-a6c4dae69d19",
    "_uuid": "8f2839f25d086af736a60e9eeb907d3b93b6e0e5",
    "papermill": {
     "duration": 0.00449,
     "end_time": "2023-11-06T14:25:39.243307",
     "exception": false,
     "start_time": "2023-11-06T14:25:39.238817",
     "status": "completed"
    },
    "tags": []
   },
   "source": [
    "****<h1 style=text-align:center>Practical-14</h1>****"
   ]
  },
  {
   "cell_type": "markdown",
   "id": "cc86de12",
   "metadata": {
    "papermill": {
     "duration": 0.003645,
     "end_time": "2023-11-06T14:25:39.252476",
     "exception": false,
     "start_time": "2023-11-06T14:25:39.248831",
     "status": "completed"
    },
    "tags": []
   },
   "source": [
    "**1)Write a Python program to implement a machine learning algorithm for\n",
    "given dataset. (It is recommended to assign different machine learning algorithms group wise – micro project)**"
   ]
  },
  {
   "cell_type": "markdown",
   "id": "4b0156a6",
   "metadata": {
    "papermill": {
     "duration": 0.003667,
     "end_time": "2023-11-06T14:25:39.259945",
     "exception": false,
     "start_time": "2023-11-06T14:25:39.256278",
     "status": "completed"
    },
    "tags": []
   },
   "source": [
    "**<h3 style=text-align:center>Project Name: Heart Disease Prediction</h3>**"
   ]
  },
  {
   "cell_type": "markdown",
   "id": "1069a30a",
   "metadata": {
    "papermill": {
     "duration": 0.003584,
     "end_time": "2023-11-06T14:25:39.267342",
     "exception": false,
     "start_time": "2023-11-06T14:25:39.263758",
     "status": "completed"
    },
    "tags": []
   },
   "source": [
    "**<h3 style=text-align:center>Members: Harsh Rajyguruh and Nayan Gohel</h3>**"
   ]
  },
  {
   "cell_type": "markdown",
   "id": "ff77ce81",
   "metadata": {
    "papermill": {
     "duration": 0.003701,
     "end_time": "2023-11-06T14:25:39.274888",
     "exception": false,
     "start_time": "2023-11-06T14:25:39.271187",
     "status": "completed"
    },
    "tags": []
   },
   "source": [
    "**<h3 style=text-align:center>Enrollments: 216270307031,216270307036</h3>**"
   ]
  },
  {
   "cell_type": "code",
   "execution_count": 1,
   "id": "998be4de",
   "metadata": {
    "execution": {
     "iopub.execute_input": "2023-11-06T14:25:39.284195Z",
     "iopub.status.busy": "2023-11-06T14:25:39.283896Z",
     "iopub.status.idle": "2023-11-06T14:25:40.687530Z",
     "shell.execute_reply": "2023-11-06T14:25:40.686775Z"
    },
    "papermill": {
     "duration": 1.410914,
     "end_time": "2023-11-06T14:25:40.689529",
     "exception": false,
     "start_time": "2023-11-06T14:25:39.278615",
     "status": "completed"
    },
    "tags": []
   },
   "outputs": [],
   "source": [
    "import numpy as np\n",
    "import pandas as pd\n",
    "import matplotlib.pyplot as plt\n",
    "import seaborn as sns"
   ]
  },
  {
   "cell_type": "code",
   "execution_count": 2,
   "id": "0cd8d384",
   "metadata": {
    "execution": {
     "iopub.execute_input": "2023-11-06T14:25:40.698612Z",
     "iopub.status.busy": "2023-11-06T14:25:40.698301Z",
     "iopub.status.idle": "2023-11-06T14:25:40.739326Z",
     "shell.execute_reply": "2023-11-06T14:25:40.738467Z"
    },
    "papermill": {
     "duration": 0.047467,
     "end_time": "2023-11-06T14:25:40.741182",
     "exception": false,
     "start_time": "2023-11-06T14:25:40.693715",
     "status": "completed"
    },
    "tags": []
   },
   "outputs": [
    {
     "data": {
      "text/html": [
       "<div>\n",
       "<style scoped>\n",
       "    .dataframe tbody tr th:only-of-type {\n",
       "        vertical-align: middle;\n",
       "    }\n",
       "\n",
       "    .dataframe tbody tr th {\n",
       "        vertical-align: top;\n",
       "    }\n",
       "\n",
       "    .dataframe thead th {\n",
       "        text-align: right;\n",
       "    }\n",
       "</style>\n",
       "<table border=\"1\" class=\"dataframe\">\n",
       "  <thead>\n",
       "    <tr style=\"text-align: right;\">\n",
       "      <th></th>\n",
       "      <th>age</th>\n",
       "      <th>sex</th>\n",
       "      <th>cp</th>\n",
       "      <th>trestbps</th>\n",
       "      <th>chol</th>\n",
       "      <th>fbs</th>\n",
       "      <th>restecg</th>\n",
       "      <th>thalach</th>\n",
       "      <th>exang</th>\n",
       "      <th>oldpeak</th>\n",
       "      <th>slope</th>\n",
       "      <th>ca</th>\n",
       "      <th>thal</th>\n",
       "      <th>target</th>\n",
       "    </tr>\n",
       "  </thead>\n",
       "  <tbody>\n",
       "    <tr>\n",
       "      <th>0</th>\n",
       "      <td>63</td>\n",
       "      <td>1</td>\n",
       "      <td>3</td>\n",
       "      <td>145</td>\n",
       "      <td>233</td>\n",
       "      <td>1</td>\n",
       "      <td>0</td>\n",
       "      <td>150</td>\n",
       "      <td>0</td>\n",
       "      <td>2.3</td>\n",
       "      <td>0</td>\n",
       "      <td>0</td>\n",
       "      <td>1</td>\n",
       "      <td>1</td>\n",
       "    </tr>\n",
       "    <tr>\n",
       "      <th>1</th>\n",
       "      <td>37</td>\n",
       "      <td>1</td>\n",
       "      <td>2</td>\n",
       "      <td>130</td>\n",
       "      <td>250</td>\n",
       "      <td>0</td>\n",
       "      <td>1</td>\n",
       "      <td>187</td>\n",
       "      <td>0</td>\n",
       "      <td>3.5</td>\n",
       "      <td>0</td>\n",
       "      <td>0</td>\n",
       "      <td>2</td>\n",
       "      <td>1</td>\n",
       "    </tr>\n",
       "    <tr>\n",
       "      <th>2</th>\n",
       "      <td>41</td>\n",
       "      <td>0</td>\n",
       "      <td>1</td>\n",
       "      <td>130</td>\n",
       "      <td>204</td>\n",
       "      <td>0</td>\n",
       "      <td>0</td>\n",
       "      <td>172</td>\n",
       "      <td>0</td>\n",
       "      <td>1.4</td>\n",
       "      <td>2</td>\n",
       "      <td>0</td>\n",
       "      <td>2</td>\n",
       "      <td>1</td>\n",
       "    </tr>\n",
       "    <tr>\n",
       "      <th>3</th>\n",
       "      <td>56</td>\n",
       "      <td>1</td>\n",
       "      <td>1</td>\n",
       "      <td>120</td>\n",
       "      <td>236</td>\n",
       "      <td>0</td>\n",
       "      <td>1</td>\n",
       "      <td>178</td>\n",
       "      <td>0</td>\n",
       "      <td>0.8</td>\n",
       "      <td>2</td>\n",
       "      <td>0</td>\n",
       "      <td>2</td>\n",
       "      <td>1</td>\n",
       "    </tr>\n",
       "    <tr>\n",
       "      <th>4</th>\n",
       "      <td>57</td>\n",
       "      <td>0</td>\n",
       "      <td>0</td>\n",
       "      <td>120</td>\n",
       "      <td>354</td>\n",
       "      <td>0</td>\n",
       "      <td>1</td>\n",
       "      <td>163</td>\n",
       "      <td>1</td>\n",
       "      <td>0.6</td>\n",
       "      <td>2</td>\n",
       "      <td>0</td>\n",
       "      <td>2</td>\n",
       "      <td>1</td>\n",
       "    </tr>\n",
       "  </tbody>\n",
       "</table>\n",
       "</div>"
      ],
      "text/plain": [
       "   age  sex  cp  trestbps  chol  fbs  restecg  thalach  exang  oldpeak  slope  \\\n",
       "0   63    1   3       145   233    1        0      150      0      2.3      0   \n",
       "1   37    1   2       130   250    0        1      187      0      3.5      0   \n",
       "2   41    0   1       130   204    0        0      172      0      1.4      2   \n",
       "3   56    1   1       120   236    0        1      178      0      0.8      2   \n",
       "4   57    0   0       120   354    0        1      163      1      0.6      2   \n",
       "\n",
       "   ca  thal  target  \n",
       "0   0     1       1  \n",
       "1   0     2       1  \n",
       "2   0     2       1  \n",
       "3   0     2       1  \n",
       "4   0     2       1  "
      ]
     },
     "execution_count": 2,
     "metadata": {},
     "output_type": "execute_result"
    }
   ],
   "source": [
    "# Load Heart Disease dataset\n",
    "column_names = [\"age\", \"sex\", \"cp\", \"trestbps\", \"chol\", \"fbs\", \"restecg\", \"thalach\", \"exang\", \"oldpeak\", \"slope\", \"ca\", \"thal\", \"target\"]\n",
    "df = pd.read_csv(\"../input/heart-disease/dataset.csv\")\n",
    "df.head()"
   ]
  },
  {
   "cell_type": "code",
   "execution_count": 3,
   "id": "6e3bb9b3",
   "metadata": {
    "execution": {
     "iopub.execute_input": "2023-11-06T14:25:40.752062Z",
     "iopub.status.busy": "2023-11-06T14:25:40.751742Z",
     "iopub.status.idle": "2023-11-06T14:25:40.758775Z",
     "shell.execute_reply": "2023-11-06T14:25:40.757877Z"
    },
    "papermill": {
     "duration": 0.015659,
     "end_time": "2023-11-06T14:25:40.761228",
     "exception": false,
     "start_time": "2023-11-06T14:25:40.745569",
     "status": "completed"
    },
    "tags": []
   },
   "outputs": [
    {
     "name": "stdout",
     "output_type": "stream",
     "text": [
      "age         0\n",
      "sex         0\n",
      "cp          0\n",
      "trestbps    0\n",
      "chol        0\n",
      "fbs         0\n",
      "restecg     0\n",
      "thalach     0\n",
      "exang       0\n",
      "oldpeak     0\n",
      "slope       0\n",
      "ca          0\n",
      "thal        0\n",
      "target      0\n",
      "dtype: int64\n"
     ]
    }
   ],
   "source": [
    "# Check for missing values\n",
    "print(df.isnull().sum())"
   ]
  },
  {
   "cell_type": "code",
   "execution_count": 4,
   "id": "2b811d12",
   "metadata": {
    "execution": {
     "iopub.execute_input": "2023-11-06T14:25:40.771063Z",
     "iopub.status.busy": "2023-11-06T14:25:40.770754Z",
     "iopub.status.idle": "2023-11-06T14:25:40.776544Z",
     "shell.execute_reply": "2023-11-06T14:25:40.775767Z"
    },
    "papermill": {
     "duration": 0.012601,
     "end_time": "2023-11-06T14:25:40.778258",
     "exception": false,
     "start_time": "2023-11-06T14:25:40.765657",
     "status": "completed"
    },
    "tags": []
   },
   "outputs": [],
   "source": [
    "bg_color = (0.25, 0.25, 0.25)\n",
    "sns.set(rc={\"font.style\":\"normal\",\n",
    "            \"axes.facecolor\":bg_color,\n",
    "            \"figure.facecolor\":bg_color,\n",
    "            \"text.color\":\"white\",\n",
    "            \"xtick.color\":\"white\",\n",
    "            \"ytick.color\":\"white\",\n",
    "            \"axes.labelcolor\":\"white\",\n",
    "            \"axes.grid\":False,\n",
    "            'axes.labelsize':25,\n",
    "            'figure.figsize':(10.0,5.0),\n",
    "            'xtick.labelsize':15,\n",
    "            'ytick.labelsize':15})"
   ]
  },
  {
   "cell_type": "code",
   "execution_count": 5,
   "id": "a843e8eb",
   "metadata": {
    "execution": {
     "iopub.execute_input": "2023-11-06T14:25:40.787697Z",
     "iopub.status.busy": "2023-11-06T14:25:40.787417Z",
     "iopub.status.idle": "2023-11-06T14:25:41.101915Z",
     "shell.execute_reply": "2023-11-06T14:25:41.101025Z"
    },
    "papermill": {
     "duration": 0.32164,
     "end_time": "2023-11-06T14:25:41.104070",
     "exception": false,
     "start_time": "2023-11-06T14:25:40.782430",
     "status": "completed"
    },
    "tags": []
   },
   "outputs": [
    {
     "data": {
      "text/plain": [
       "<Axes: >"
      ]
     },
     "execution_count": 5,
     "metadata": {},
     "output_type": "execute_result"
    },
    {
     "data": {
      "image/png": "[encoded data removed]",
      "text/plain": [
       "<Figure size 1000x500 with 1 Axes>"
      ]
     },
     "metadata": {},
     "output_type": "display_data"
    }
   ],
   "source": [
    "df['sex'].hist(grid=False)"
   ]
  },
  {
   "cell_type": "code",
   "execution_count": 6,
   "id": "1436e690",
   "metadata": {
    "execution": {
     "iopub.execute_input": "2023-11-06T14:25:41.115237Z",
     "iopub.status.busy": "2023-11-06T14:25:41.114384Z",
     "iopub.status.idle": "2023-11-06T14:25:41.120823Z",
     "shell.execute_reply": "2023-11-06T14:25:41.119773Z"
    },
    "papermill": {
     "duration": 0.013699,
     "end_time": "2023-11-06T14:25:41.122645",
     "exception": false,
     "start_time": "2023-11-06T14:25:41.108946",
     "status": "completed"
    },
    "tags": []
   },
   "outputs": [],
   "source": [
    "bg_color = (0.25, 0.25, 0.25)\n",
    "sns.set(rc={\"font.style\":\"normal\",\n",
    "            \"axes.facecolor\":bg_color,\n",
    "            \"figure.facecolor\":bg_color,\n",
    "            \"text.color\":\"white\",\n",
    "            \"xtick.color\":\"white\",\n",
    "            \"ytick.color\":\"white\",\n",
    "            \"axes.labelcolor\":\"white\",\n",
    "            \"axes.grid\":False,\n",
    "            'axes.labelsize':25,\n",
    "            'figure.figsize':(10.0,5.0),\n",
    "            'xtick.labelsize':15,\n",
    "            'ytick.labelsize':15})"
   ]
  },
  {
   "cell_type": "code",
   "execution_count": 7,
   "id": "6d7eda13",
   "metadata": {
    "execution": {
     "iopub.execute_input": "2023-11-06T14:25:41.132880Z",
     "iopub.status.busy": "2023-11-06T14:25:41.132570Z",
     "iopub.status.idle": "2023-11-06T14:25:41.383379Z",
     "shell.execute_reply": "2023-11-06T14:25:41.382499Z"
    },
    "papermill": {
     "duration": 0.257935,
     "end_time": "2023-11-06T14:25:41.385174",
     "exception": false,
     "start_time": "2023-11-06T14:25:41.127239",
     "status": "completed"
    },
    "tags": []
   },
   "outputs": [
    {
     "data": {
      "text/plain": [
       "<Axes: >"
      ]
     },
     "execution_count": 7,
     "metadata": {},
     "output_type": "execute_result"
    },
    {
     "data": {
      "image/png": "[encoded data removed]",
      "text/plain": [
       "<Figure size 1000x500 with 1 Axes>"
      ]
     },
     "metadata": {},
     "output_type": "display_data"
    }
   ],
   "source": [
    "df['age'].hist(grid=False)"
   ]
  },
  {
   "cell_type": "code",
   "execution_count": 8,
   "id": "aaaf7acc",
   "metadata": {
    "execution": {
     "iopub.execute_input": "2023-11-06T14:25:41.396190Z",
     "iopub.status.busy": "2023-11-06T14:25:41.395911Z",
     "iopub.status.idle": "2023-11-06T14:25:41.400871Z",
     "shell.execute_reply": "2023-11-06T14:25:41.400001Z"
    },
    "papermill": {
     "duration": 0.012884,
     "end_time": "2023-11-06T14:25:41.403067",
     "exception": false,
     "start_time": "2023-11-06T14:25:41.390183",
     "status": "completed"
    },
    "tags": []
   },
   "outputs": [],
   "source": [
    "# Data Preprocessing:\n",
    "# Handle missing values by removing rows with missing values\n",
    "df.dropna(inplace=True)"
   ]
  },
  {
   "cell_type": "code",
   "execution_count": 9,
   "id": "cf2bbb1b",
   "metadata": {
    "execution": {
     "iopub.execute_input": "2023-11-06T14:25:41.414486Z",
     "iopub.status.busy": "2023-11-06T14:25:41.414173Z",
     "iopub.status.idle": "2023-11-06T14:25:41.424608Z",
     "shell.execute_reply": "2023-11-06T14:25:41.423591Z"
    },
    "papermill": {
     "duration": 0.018006,
     "end_time": "2023-11-06T14:25:41.426261",
     "exception": false,
     "start_time": "2023-11-06T14:25:41.408255",
     "status": "completed"
    },
    "tags": []
   },
   "outputs": [],
   "source": [
    "# Encode categorical variables\n",
    "# You can use one-hot encoding or label encoding depending on the dataset.\n",
    "# Split the data into features (X) and the target (y)\n",
    "X = df.drop(\"target\", axis=1)\n",
    "y = df[\"target\"]"
   ]
  },
  {
   "cell_type": "code",
   "execution_count": 10,
   "id": "e3b83046",
   "metadata": {
    "execution": {
     "iopub.execute_input": "2023-11-06T14:25:41.437403Z",
     "iopub.status.busy": "2023-11-06T14:25:41.436682Z",
     "iopub.status.idle": "2023-11-06T14:25:41.443218Z",
     "shell.execute_reply": "2023-11-06T14:25:41.442647Z"
    },
    "papermill": {
     "duration": 0.013627,
     "end_time": "2023-11-06T14:25:41.444842",
     "exception": false,
     "start_time": "2023-11-06T14:25:41.431215",
     "status": "completed"
    },
    "tags": []
   },
   "outputs": [],
   "source": [
    "# Normalize features (you can use Min-Max scaling for this)\n",
    "X = (X - X.min()) / (X.max() - X.min())"
   ]
  },
  {
   "cell_type": "code",
   "execution_count": 11,
   "id": "914c9672",
   "metadata": {
    "execution": {
     "iopub.execute_input": "2023-11-06T14:25:41.455653Z",
     "iopub.status.busy": "2023-11-06T14:25:41.455242Z",
     "iopub.status.idle": "2023-11-06T14:25:41.460702Z",
     "shell.execute_reply": "2023-11-06T14:25:41.460162Z"
    },
    "papermill": {
     "duration": 0.012452,
     "end_time": "2023-11-06T14:25:41.462163",
     "exception": false,
     "start_time": "2023-11-06T14:25:41.449711",
     "status": "completed"
    },
    "tags": []
   },
   "outputs": [],
   "source": [
    "# Split the data into a training set and a testing set\n",
    "X_train = X.sample(frac=0.8, random_state=1)\n",
    "X_test = X.drop(X_train.index)\n",
    "y_train = y.loc[X_train.index]\n",
    "y_test = y.loc[X_test.index]"
   ]
  },
  {
   "cell_type": "code",
   "execution_count": 12,
   "id": "77efebba",
   "metadata": {
    "execution": {
     "iopub.execute_input": "2023-11-06T14:25:41.473339Z",
     "iopub.status.busy": "2023-11-06T14:25:41.472877Z",
     "iopub.status.idle": "2023-11-06T14:25:41.477866Z",
     "shell.execute_reply": "2023-11-06T14:25:41.477216Z"
    },
    "papermill": {
     "duration": 0.012479,
     "end_time": "2023-11-06T14:25:41.479446",
     "exception": false,
     "start_time": "2023-11-06T14:25:41.466967",
     "status": "completed"
    },
    "tags": []
   },
   "outputs": [],
   "source": [
    "# Logistic Regression Model\n",
    "def sigmoid(z):\n",
    "    return 1 / (1 + np.exp(-z))\n",
    "\n",
    "def predict(X, weights):\n",
    "    z = np.dot(X, weights)\n",
    "    return sigmoid(z)\n",
    "\n",
    "def train_logistic_regression(X, y, learning_rate, num_iterations):\n",
    "    num_samples, num_features = X.shape\n",
    "    weights = np.zeros(num_features)\n",
    "\n",
    "    for _ in range(num_iterations):\n",
    "        model = predict(X, weights)\n",
    "        gradient = np.dot(X.T, (model - y)) / num_samples\n",
    "        weights -= learning_rate * gradient\n",
    "\n",
    "    return weights"
   ]
  },
  {
   "cell_type": "code",
   "execution_count": 13,
   "id": "01af8e3c",
   "metadata": {
    "execution": {
     "iopub.execute_input": "2023-11-06T14:25:41.490305Z",
     "iopub.status.busy": "2023-11-06T14:25:41.490030Z",
     "iopub.status.idle": "2023-11-06T14:25:41.510753Z",
     "shell.execute_reply": "2023-11-06T14:25:41.510057Z"
    },
    "papermill": {
     "duration": 0.028669,
     "end_time": "2023-11-06T14:25:41.513054",
     "exception": false,
     "start_time": "2023-11-06T14:25:41.484385",
     "status": "completed"
    },
    "tags": []
   },
   "outputs": [],
   "source": [
    "# Train the logistic regression model\n",
    "learning_rate = 0.1\n",
    "num_iterations = 1000\n",
    "trained_weights = train_logistic_regression(X_train.values, y_train.values, learning_rate, num_iterations)"
   ]
  },
  {
   "cell_type": "code",
   "execution_count": 14,
   "id": "fcca4b18",
   "metadata": {
    "execution": {
     "iopub.execute_input": "2023-11-06T14:25:41.524269Z",
     "iopub.status.busy": "2023-11-06T14:25:41.523979Z",
     "iopub.status.idle": "2023-11-06T14:25:41.528756Z",
     "shell.execute_reply": "2023-11-06T14:25:41.528007Z"
    },
    "papermill": {
     "duration": 0.01216,
     "end_time": "2023-11-06T14:25:41.530359",
     "exception": false,
     "start_time": "2023-11-06T14:25:41.518199",
     "status": "completed"
    },
    "tags": []
   },
   "outputs": [],
   "source": [
    "# Make Predictions\n",
    "def predict_class(X, weights, threshold=0.5):\n",
    "    probabilities = predict(X, weights)\n",
    "    return [1 if p > threshold else 0 for p in probabilities]\n",
    "\n",
    "y_pred = predict_class(X_test.values, trained_weights)"
   ]
  },
  {
   "cell_type": "code",
   "execution_count": 15,
   "id": "963c1931",
   "metadata": {
    "execution": {
     "iopub.execute_input": "2023-11-06T14:25:41.541383Z",
     "iopub.status.busy": "2023-11-06T14:25:41.541114Z",
     "iopub.status.idle": "2023-11-06T14:25:41.545350Z",
     "shell.execute_reply": "2023-11-06T14:25:41.544469Z"
    },
    "papermill": {
     "duration": 0.011703,
     "end_time": "2023-11-06T14:25:41.547039",
     "exception": false,
     "start_time": "2023-11-06T14:25:41.535336",
     "status": "completed"
    },
    "tags": []
   },
   "outputs": [
    {
     "name": "stdout",
     "output_type": "stream",
     "text": [
      "Accuracy: 91.80%\n"
     ]
    }
   ],
   "source": [
    "# Accuracy\n",
    "accuracy = np.mean(y_pred == y_test.values)\n",
    "print(\"Accuracy: {:.2f}%\".format(accuracy * 100))"
   ]
  }
 ],
 "metadata": {
  "kernelspec": {
   "display_name": "Python 3",
   "language": "python",
   "name": "python3"
  },
  "language_info": {
   "codemirror_mode": {
    "name": "ipython",
    "version": 3
   },
   "file_extension": ".py",
   "mimetype": "text/x-python",
   "name": "python",
   "nbconvert_exporter": "python",
   "pygments_lexer": "ipython3",
   "version": "3.10.12"
  },
  "papermill": {
   "default_parameters": {},
   "duration": 5.207871,
   "end_time": "2023-11-06T14:25:41.969254",
   "environment_variables": {},
   "exception": null,
   "input_path": "__notebook__.ipynb",
   "output_path": "__notebook__.ipynb",
   "parameters": {},
   "start_time": "2023-11-06T14:25:36.761383",
   "version": "2.4.0"
  }
 },
 "nbformat": 4,
 "nbformat_minor": 5
}
