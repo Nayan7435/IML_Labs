{
 "cells": [
  {
   "cell_type": "markdown",
   "id": "dc2a6303",
   "metadata": {
    "papermill": {
     "duration": 0.00502,
     "end_time": "2023-09-04T11:57:50.276105",
     "exception": false,
     "start_time": "2023-09-04T11:57:50.271085",
     "status": "completed"
    },
    "tags": []
   },
   "source": [
    "<h1 style=\"text-align:center;\">Practical-1</h1>"
   ]
  },
  {
   "cell_type": "markdown",
   "id": "b09ffeef",
   "metadata": {
    "papermill": {
     "duration": 0.003579,
     "end_time": "2023-09-04T11:57:50.284156",
     "exception": false,
     "start_time": "2023-09-04T11:57:50.280577",
     "status": "completed"
    },
    "tags": []
   },
   "source": [
    "**1)Print Hello World**"
   ]
  },
  {
   "cell_type": "code",
   "execution_count": 1,
   "id": "106c956e",
   "metadata": {
    "execution": {
     "iopub.execute_input": "2023-09-04T11:57:50.295022Z",
     "iopub.status.busy": "2023-09-04T11:57:50.293649Z",
     "iopub.status.idle": "2023-09-04T11:57:50.307873Z",
     "shell.execute_reply": "2023-09-04T11:57:50.306679Z"
    },
    "papermill": {
     "duration": 0.022493,
     "end_time": "2023-09-04T11:57:50.310413",
     "exception": false,
     "start_time": "2023-09-04T11:57:50.287920",
     "status": "completed"
    },
    "tags": []
   },
   "outputs": [
    {
     "name": "stdout",
     "output_type": "stream",
     "text": [
      "hello world\n"
     ]
    }
   ],
   "source": [
    "print(\"hello world\")"
   ]
  }
 ],
 "kernelspec": {
  "display_name": "Python 3",
  "language": "python",
  "name": "python3"
 },
 "language_info": {
  "codemirror_mode": {
   "name": "ipython",
   "version": 3
  },
  "file_extension": ".py",
  "mimetype": "text/x-python",
  "name": "python",
  "nbconvert_exporter": "python",
  "pygments_lexer": "ipython3",
  "version": "3.6.4"
 },
 "metadata": {
  "kernelspec": {
   "display_name": "Python 3",
   "language": "python",
   "name": "python3"
  },
  "language_info": {
   "codemirror_mode": {
    "name": "ipython",
    "version": 3
   },
   "file_extension": ".py",
   "mimetype": "text/x-python",
   "name": "python",
   "nbconvert_exporter": "python",
   "pygments_lexer": "ipython3",
   "version": "3.10.12"
  },
  "papermill": {
   "default_parameters": {},
   "duration": 4.53375,
   "end_time": "2023-09-04T11:57:50.735782",
   "environment_variables": {},
   "exception": null,
   "input_path": "__notebook__.ipynb",
   "output_path": "__notebook__.ipynb",
   "parameters": {},
   "start_time": "2023-09-04T11:57:46.202032",
   "version": "2.4.0"
  }
 },
 "nbformat": 4,
 "nbformat_minor": 5
}
