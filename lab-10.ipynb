{
 "cells": [
  {
   "cell_type": "markdown",
   "id": "531f8b32",
   "metadata": {
    "papermill": {
     "duration": 0.002553,
     "end_time": "2023-10-20T07:13:38.357465",
     "exception": false,
     "start_time": "2023-10-20T07:13:38.354912",
     "status": "completed"
    },
    "tags": []
   },
   "source": [
    "**<h1 style=text-align:center>Practical-10</h1>**"
   ]
  },
  {
   "cell_type": "markdown",
   "id": "be8863e3",
   "metadata": {
    "papermill": {
     "duration": 0.001521,
     "end_time": "2023-10-20T07:13:38.361189",
     "exception": false,
     "start_time": "2023-10-20T07:13:38.359668",
     "status": "completed"
    },
    "tags": []
   },
   "source": [
    "**1)to find and drop the missing values from the given dataset**"
   ]
  },
  {
   "cell_type": "code",
   "execution_count": 1,
   "id": "8318828c",
   "metadata": {
    "execution": {
     "iopub.execute_input": "2023-10-20T07:13:38.369865Z",
     "iopub.status.busy": "2023-10-20T07:13:38.368630Z",
     "iopub.status.idle": "2023-10-20T07:13:38.828899Z",
     "shell.execute_reply": "2023-10-20T07:13:38.827909Z"
    },
    "papermill": {
     "duration": 0.466892,
     "end_time": "2023-10-20T07:13:38.832410",
     "exception": false,
     "start_time": "2023-10-20T07:13:38.365518",
     "status": "completed"
    },
    "tags": []
   },
   "outputs": [
    {
     "name": "stdout",
     "output_type": "stream",
     "text": [
      "Missing values are : \n",
      "Duration    0\n",
      "Date        1\n",
      "Pulse       0\n",
      "Maxpulse    0\n",
      "Calories    2\n",
      "dtype: int64\n",
      "\n",
      "Dataset with droped NaN : \n",
      "    Duration          Date  Pulse  Maxpulse  Calories\n",
      "0         60  '2020/12/01'    110       130     409.1\n",
      "1         60  '2020/12/02'    117       145     479.0\n",
      "2         60  '2020/12/03'    103       135     340.0\n",
      "3         45  '2020/12/04'    109       175     282.4\n",
      "4         45  '2020/12/05'    117       148     406.0\n",
      "5         60  '2020/12/06'    102       127     300.0\n",
      "6         60  '2020/12/07'    110       136     374.0\n",
      "7        450  '2020/12/08'    104       134     253.3\n",
      "8         30  '2020/12/09'    109       133     195.1\n",
      "9         60  '2020/12/10'     98       124     269.0\n",
      "10        60  '2020/12/11'    103       147     329.3\n",
      "11        60  '2020/12/12'    100       120     250.7\n",
      "12        60  '2020/12/12'    100       120     250.7\n",
      "13        60  '2020/12/13'    106       128     345.3\n",
      "14        60  '2020/12/14'    104       132     379.3\n",
      "15        60  '2020/12/15'     98       123     275.0\n",
      "16        60  '2020/12/16'     98       120     215.2\n",
      "17        60  '2020/12/17'    100       120     300.0\n",
      "19        60  '2020/12/19'    103       123     323.0\n",
      "20        45  '2020/12/20'     97       125     243.0\n",
      "21        60  '2020/12/21'    108       131     364.2\n",
      "23        60  '2020/12/23'    130       101     300.0\n",
      "24        45  '2020/12/24'    105       132     246.0\n",
      "25        60  '2020/12/25'    102       126     334.5\n",
      "26        60      20201226    100       120     250.0\n",
      "27        60  '2020/12/27'     92       118     241.0\n",
      "29        60  '2020/12/29'    100       132     280.0\n",
      "30        60  '2020/12/30'    102       129     380.3\n",
      "31        60  '2020/12/31'     92       115     243.0\n"
     ]
    }
   ],
   "source": [
    "'''\n",
    "Name: Gohel Nayan Jayeshbhai\n",
    "Enrollment: 216270307036\n",
    "'''\n",
    "import pandas as pd\n",
    "import numpy as np\n",
    "\n",
    "df = pd.read_csv('../input/wrong-data/wrong_data.csv')\n",
    "\n",
    "missing = df.isna().sum()\n",
    "print(\"Missing values are : \\n\",missing,sep=\"\")\n",
    "\n",
    "df.dropna(inplace=True)\n",
    "\n",
    "print(\"\\nDataset with droped NaN : \\n\",df,sep=\"\")"
   ]
  },
  {
   "cell_type": "markdown",
   "id": "678d8e44",
   "metadata": {
    "papermill": {
     "duration": 0.001678,
     "end_time": "2023-10-20T07:13:38.836327",
     "exception": false,
     "start_time": "2023-10-20T07:13:38.834649",
     "status": "completed"
    },
    "tags": []
   },
   "source": [
    "**2)to remove the duplicates from the given dataset.**"
   ]
  },
  {
   "cell_type": "code",
   "execution_count": 2,
   "id": "3753f3f6",
   "metadata": {
    "execution": {
     "iopub.execute_input": "2023-10-20T07:13:38.842099Z",
     "iopub.status.busy": "2023-10-20T07:13:38.841720Z",
     "iopub.status.idle": "2023-10-20T07:13:38.859347Z",
     "shell.execute_reply": "2023-10-20T07:13:38.858293Z"
    },
    "papermill": {
     "duration": 0.023128,
     "end_time": "2023-10-20T07:13:38.861452",
     "exception": false,
     "start_time": "2023-10-20T07:13:38.838324",
     "status": "completed"
    },
    "tags": []
   },
   "outputs": [
    {
     "name": "stdout",
     "output_type": "stream",
     "text": [
      "    Duration          Date  Pulse  Maxpulse  Calories\n",
      "0         60  '2020/12/01'    110       130     409.1\n",
      "1         60  '2020/12/02'    117       145     479.0\n",
      "2         60  '2020/12/03'    103       135     340.0\n",
      "3         45  '2020/12/04'    109       175     282.4\n",
      "4         45  '2020/12/05'    117       148     406.0\n",
      "5         60  '2020/12/06'    102       127     300.0\n",
      "6         60  '2020/12/07'    110       136     374.0\n",
      "7        450  '2020/12/08'    104       134     253.3\n",
      "8         30  '2020/12/09'    109       133     195.1\n",
      "9         60  '2020/12/10'     98       124     269.0\n",
      "10        60  '2020/12/11'    103       147     329.3\n",
      "11        60  '2020/12/12'    100       120     250.7\n",
      "13        60  '2020/12/13'    106       128     345.3\n",
      "14        60  '2020/12/14'    104       132     379.3\n",
      "15        60  '2020/12/15'     98       123     275.0\n",
      "16        60  '2020/12/16'     98       120     215.2\n",
      "17        60  '2020/12/17'    100       120     300.0\n",
      "19        60  '2020/12/19'    103       123     323.0\n",
      "20        45  '2020/12/20'     97       125     243.0\n",
      "21        60  '2020/12/21'    108       131     364.2\n",
      "23        60  '2020/12/23'    130       101     300.0\n",
      "24        45  '2020/12/24'    105       132     246.0\n",
      "25        60  '2020/12/25'    102       126     334.5\n",
      "26        60      20201226    100       120     250.0\n",
      "27        60  '2020/12/27'     92       118     241.0\n",
      "29        60  '2020/12/29'    100       132     280.0\n",
      "30        60  '2020/12/30'    102       129     380.3\n",
      "31        60  '2020/12/31'     92       115     243.0\n"
     ]
    }
   ],
   "source": [
    "'''\n",
    "Name: Gohel Nayan Jayeshbhai\n",
    "Enrollment: 216270307036\n",
    "'''\n",
    "df.drop_duplicates(inplace=True)\n",
    "print(df)"
   ]
  }
 ],
 "metadata": {
  "kernelspec": {
   "display_name": "Python 3",
   "language": "python",
   "name": "python3"
  },
  "language_info": {
   "codemirror_mode": {
    "name": "ipython",
    "version": 3
   },
   "file_extension": ".py",
   "mimetype": "text/x-python",
   "name": "python",
   "nbconvert_exporter": "python",
   "pygments_lexer": "ipython3",
   "version": "3.10.12"
  },
  "papermill": {
   "default_parameters": {},
   "duration": 4.309505,
   "end_time": "2023-10-20T07:13:39.484721",
   "environment_variables": {},
   "exception": null,
   "input_path": "__notebook__.ipynb",
   "output_path": "__notebook__.ipynb",
   "parameters": {},
   "start_time": "2023-10-20T07:13:35.175216",
   "version": "2.4.0"
  }
 },
 "nbformat": 4,
 "nbformat_minor": 5
}
