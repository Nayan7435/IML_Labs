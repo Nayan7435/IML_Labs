{
 "cells": [
  {
   "cell_type": "markdown",
   "id": "50465e01",
   "metadata": {
    "papermill": {
     "duration": 0.00405,
     "end_time": "2023-09-04T12:05:07.912922",
     "exception": false,
     "start_time": "2023-09-04T12:05:07.908872",
     "status": "completed"
    },
    "tags": []
   },
   "source": [
    "<h1 style=\"text-align:center;\">Practical-3</h1>"
   ]
  },
  {
   "cell_type": "code",
   "execution_count": null,
   "id": "05288521",
   "metadata": {
    "papermill": {
     "duration": 0.003009,
     "end_time": "2023-09-04T12:05:07.919522",
     "exception": false,
     "start_time": "2023-09-04T12:05:07.916513",
     "status": "completed"
    },
    "tags": []
   },
   "outputs": [],
   "source": []
  }
 ],
 "kernelspec": {
  "display_name": "Python 3",
  "language": "python",
  "name": "python3"
 },
 "language_info": {
  "codemirror_mode": {
   "name": "ipython",
   "version": 3
  },
  "file_extension": ".py",
  "mimetype": "text/x-python",
  "name": "python",
  "nbconvert_exporter": "python",
  "pygments_lexer": "ipython3",
  "version": "3.6.4"
 },
 "metadata": {
  "kernelspec": {
   "display_name": "Python 3",
   "language": "python",
   "name": "python3"
  },
  "language_info": {
   "codemirror_mode": {
    "name": "ipython",
    "version": 3
   },
   "file_extension": ".py",
   "mimetype": "text/x-python",
   "name": "python",
   "nbconvert_exporter": "python",
   "pygments_lexer": "ipython3",
   "version": "3.10.12"
  },
  "papermill": {
   "default_parameters": {},
   "duration": 5.325163,
   "end_time": "2023-09-04T12:05:08.343079",
   "environment_variables": {},
   "exception": null,
   "input_path": "__notebook__.ipynb",
   "output_path": "__notebook__.ipynb",
   "parameters": {},
   "start_time": "2023-09-04T12:05:03.017916",
   "version": "2.4.0"
  }
 },
 "nbformat": 4,
 "nbformat_minor": 5
}
