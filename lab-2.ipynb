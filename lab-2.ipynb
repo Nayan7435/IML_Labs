{
 "cells": [
  {
   "cell_type": "markdown",
   "id": "3b0cbaae",
   "metadata": {
    "papermill": {
     "duration": 0.004775,
     "end_time": "2023-09-04T11:51:51.084521",
     "exception": false,
     "start_time": "2023-09-04T11:51:51.079746",
     "status": "completed"
    },
    "tags": []
   },
   "source": [
    "<h1 style=\"text-align:center;\">Practical-2</h1>"
   ]
  },
  {
   "cell_type": "markdown",
   "id": "429994a1",
   "metadata": {
    "papermill": {
     "duration": 0.004106,
     "end_time": "2023-09-04T11:51:51.092963",
     "exception": false,
     "start_time": "2023-09-04T11:51:51.088857",
     "status": "completed"
    },
    "tags": []
   },
   "source": [
    "**1)Creating one dimension from list**"
   ]
  },
  {
   "cell_type": "code",
   "execution_count": 1,
   "id": "98cad0fd",
   "metadata": {
    "execution": {
     "iopub.execute_input": "2023-09-04T11:51:51.103237Z",
     "iopub.status.busy": "2023-09-04T11:51:51.102491Z",
     "iopub.status.idle": "2023-09-04T11:51:51.114451Z",
     "shell.execute_reply": "2023-09-04T11:51:51.113439Z"
    },
    "papermill": {
     "duration": 0.019963,
     "end_time": "2023-09-04T11:51:51.116891",
     "exception": false,
     "start_time": "2023-09-04T11:51:51.096928",
     "status": "completed"
    },
    "tags": []
   },
   "outputs": [
    {
     "name": "stdout",
     "output_type": "stream",
     "text": [
      "Array:\n",
      " [1 2 3 4 5]\n"
     ]
    }
   ],
   "source": [
    "import numpy as np\n",
    "\n",
    "array = np.array([1,2,3,4,5])\n",
    "print(\"Array:\\n\",array)"
   ]
  },
  {
   "cell_type": "markdown",
   "id": "a21c41f4",
   "metadata": {
    "papermill": {
     "duration": 0.003777,
     "end_time": "2023-09-04T11:51:51.125024",
     "exception": false,
     "start_time": "2023-09-04T11:51:51.121247",
     "status": "completed"
    },
    "tags": []
   },
   "source": [
    "**2)To Create 3x3 matrix  with values ranging from 2 to 10**"
   ]
  },
  {
   "cell_type": "code",
   "execution_count": 2,
   "id": "68953184",
   "metadata": {
    "execution": {
     "iopub.execute_input": "2023-09-04T11:51:51.134505Z",
     "iopub.status.busy": "2023-09-04T11:51:51.134132Z",
     "iopub.status.idle": "2023-09-04T11:51:51.140165Z",
     "shell.execute_reply": "2023-09-04T11:51:51.139002Z"
    },
    "papermill": {
     "duration": 0.013422,
     "end_time": "2023-09-04T11:51:51.142367",
     "exception": false,
     "start_time": "2023-09-04T11:51:51.128945",
     "status": "completed"
    },
    "tags": []
   },
   "outputs": [
    {
     "name": "stdout",
     "output_type": "stream",
     "text": [
      "Array:\n",
      " [[ 2  3  4]\n",
      " [ 5  6  7]\n",
      " [ 8  9 10]]\n"
     ]
    }
   ],
   "source": [
    "import numpy as np\n",
    "\n",
    "array = np.array([[2,3,4],[5,6,7],[8,9,10]])\n",
    "print(\"Array:\\n\",array)"
   ]
  },
  {
   "cell_type": "markdown",
   "id": "db79bc33",
   "metadata": {
    "papermill": {
     "duration": 0.004048,
     "end_time": "2023-09-04T11:51:51.151087",
     "exception": false,
     "start_time": "2023-09-04T11:51:51.147039",
     "status": "completed"
    },
    "tags": []
   },
   "source": [
    "**3)To append values at the end**"
   ]
  },
  {
   "cell_type": "code",
   "execution_count": 3,
   "id": "f8660d04",
   "metadata": {
    "execution": {
     "iopub.execute_input": "2023-09-04T11:51:51.161089Z",
     "iopub.status.busy": "2023-09-04T11:51:51.160384Z",
     "iopub.status.idle": "2023-09-04T11:51:51.166857Z",
     "shell.execute_reply": "2023-09-04T11:51:51.165596Z"
    },
    "papermill": {
     "duration": 0.014239,
     "end_time": "2023-09-04T11:51:51.169385",
     "exception": false,
     "start_time": "2023-09-04T11:51:51.155146",
     "status": "completed"
    },
    "tags": []
   },
   "outputs": [
    {
     "name": "stdout",
     "output_type": "stream",
     "text": [
      "Array:\n",
      " [1 2 3 4 5]\n",
      "[1 2 3 4 5 6 7 8]\n"
     ]
    }
   ],
   "source": [
    "import numpy as np\n",
    "\n",
    "array = np.array([1,2,3,4,5])\n",
    "print(\"Array:\\n\",array)\n",
    "array = np.append(array,[6,7,8])\n",
    "print(array)"
   ]
  },
  {
   "cell_type": "markdown",
   "id": "ccb26097",
   "metadata": {
    "papermill": {
     "duration": 0.004025,
     "end_time": "2023-09-04T11:51:51.177745",
     "exception": false,
     "start_time": "2023-09-04T11:51:51.173720",
     "status": "completed"
    },
    "tags": []
   },
   "source": [
    "**4)To create another shape from an array without changing its data(3x2 to 2x3)**"
   ]
  },
  {
   "cell_type": "code",
   "execution_count": 4,
   "id": "be05786d",
   "metadata": {
    "execution": {
     "iopub.execute_input": "2023-09-04T11:51:51.188137Z",
     "iopub.status.busy": "2023-09-04T11:51:51.187778Z",
     "iopub.status.idle": "2023-09-04T11:51:51.193857Z",
     "shell.execute_reply": "2023-09-04T11:51:51.192822Z"
    },
    "papermill": {
     "duration": 0.01389,
     "end_time": "2023-09-04T11:51:51.195963",
     "exception": false,
     "start_time": "2023-09-04T11:51:51.182073",
     "status": "completed"
    },
    "tags": []
   },
   "outputs": [
    {
     "name": "stdout",
     "output_type": "stream",
     "text": [
      "Matrix 3x2:\n",
      " [[1 2 3]\n",
      " [4 5 6]]\n",
      "Matrix 2x3:\n",
      " [[1 2]\n",
      " [3 4]\n",
      " [5 6]]\n"
     ]
    }
   ],
   "source": [
    "import numpy as np\n",
    "\n",
    "array = np.array([[1,2,3],[4,5,6]])\n",
    "print(\"Matrix 3x2:\\n\",array)\n",
    "\n",
    "array = np.array([[1,2],[3,4],[5,6]])\n",
    "print(\"Matrix 2x3:\\n\",array)"
   ]
  },
  {
   "cell_type": "code",
   "execution_count": null,
   "id": "008d2c0a",
   "metadata": {
    "papermill": {
     "duration": 0.00447,
     "end_time": "2023-09-04T11:51:51.204950",
     "exception": false,
     "start_time": "2023-09-04T11:51:51.200480",
     "status": "completed"
    },
    "tags": []
   },
   "outputs": [],
   "source": []
  }
 ],
 "kernelspec": {
  "display_name": "Python 3",
  "language": "python",
  "name": "python3"
 },
 "language_info": {
  "codemirror_mode": {
   "name": "ipython",
   "version": 3
  },
  "file_extension": ".py",
  "mimetype": "text/x-python",
  "name": "python",
  "nbconvert_exporter": "python",
  "pygments_lexer": "ipython3",
  "version": "3.6.4"
 },
 "metadata": {
  "kernelspec": {
   "display_name": "Python 3",
   "language": "python",
   "name": "python3"
  },
  "language_info": {
   "codemirror_mode": {
    "name": "ipython",
    "version": 3
   },
   "file_extension": ".py",
   "mimetype": "text/x-python",
   "name": "python",
   "nbconvert_exporter": "python",
   "pygments_lexer": "ipython3",
   "version": "3.10.12"
  },
  "papermill": {
   "default_parameters": {},
   "duration": 3.509832,
   "end_time": "2023-09-04T11:51:51.529391",
   "environment_variables": {},
   "exception": null,
   "input_path": "__notebook__.ipynb",
   "output_path": "__notebook__.ipynb",
   "parameters": {},
   "start_time": "2023-09-04T11:51:48.019559",
   "version": "2.4.0"
  }
 },
 "nbformat": 4,
 "nbformat_minor": 5
}
